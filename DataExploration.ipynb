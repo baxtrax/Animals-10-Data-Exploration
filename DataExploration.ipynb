{
 "cells": [
  {
   "cell_type": "markdown",
   "id": "2e3a5408-0e50-4d87-86e8-55441be66fa7",
   "metadata": {},
   "source": [
    "# Animals-10 Data Exploration\n",
    "The [Animals-10 Dataset](https://www.kaggle.com/datasets/alessiocorrado99/animals10?resource=download) is made by Corrado Alessio. There are a multitude of goals that I want to acheive in this exploration. These include:\n",
    "- Explore Dataset and its characteristics\n",
    "- Identify issues\n",
    "- Develop solutions\n",
    "- Preprocess for image classification training"
   ]
  },
  {
   "cell_type": "markdown",
   "id": "9e6df8c9-61dd-4757-aaaa-ba8b44abfbdc",
   "metadata": {},
   "source": [
    "# Exploring the Dataset\n",
    "To get a feel of what the dataset is about, the first step would be to read what the author has outlined for us:\n",
    "\n",
    "> Hello everyone!\n",
    "> This is the dataset I have used for my matriculation thesis.\n",
    "> It contains about 28K medium quality animal images belonging to 10 categories: dog, cat, horse, spyder, butterfly, chicken, sheep, cow, squirrel, elephant.\n",
    "> I have used it to test different image recognition networks: from homemade CNNs (~80% accuracy) to Google Inception (98%). It could simulate a smart gallery for a researcher (like a biologist).\n",
    "> All the images have been collected from \"google images\" and have been checked by human. There is some erroneous data to simulate real conditions (eg. images taken by users of your app).\n",
    "> The main directory is divided into folders, one for each category. Image count for each category varies from 2K to 5 K units.\".\n",
    "\n",
    "As we can see here he mentions that the dataset includes 10 categories:`dog`, `cat`, `horse`, `spyder`, `butterfly`, `chicken`, `sheep`, `cow`, `squirrel`, and `elephant`. We should confirm this as one of the key concepts I have learned is to not trust everything until I am able to verify the datapoint my self. So lets read in the data and print out the different class names found by going through the folder names.\n",
    "\n",
    "The data zip file can be downloaded from [here](https://www.kaggle.com/datasets/alessiocorrado99/animals10?resource=download)."
   ]
  },
  {
   "cell_type": "code",
   "execution_count": null,
   "id": "a1cfe6c8-c110-4707-80af-4b064b7bdaea",
   "metadata": {},
   "outputs": [],
   "source": []
  }
 ],
 "metadata": {
  "kernelspec": {
   "display_name": "Python [conda env:ml-pytorch]",
   "language": "python",
   "name": "conda-env-ml-pytorch-py"
  },
  "language_info": {
   "codemirror_mode": {
    "name": "ipython",
    "version": 3
   },
   "file_extension": ".py",
   "mimetype": "text/x-python",
   "name": "python",
   "nbconvert_exporter": "python",
   "pygments_lexer": "ipython3",
   "version": "3.10.8"
  }
 },
 "nbformat": 4,
 "nbformat_minor": 5
}
