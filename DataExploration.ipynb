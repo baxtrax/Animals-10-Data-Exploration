{
 "cells": [
  {
   "cell_type": "markdown",
   "id": "2e3a5408-0e50-4d87-86e8-55441be66fa7",
   "metadata": {},
   "source": [
    "# Animals-10 Data Exploration\n",
    "The [Animals-10 Dataset](https://www.kaggle.com/datasets/alessiocorrado99/animals10?resource=download) is made by Corrado Alessio. There are a multitude of goals that I want to acheive in this exploration. These include:\n",
    "- Explore Dataset and its characteristics\n",
    "- Identify issues\n",
    "- Develop solutions\n",
    "- Preprocess for image classification training"
   ]
  },
  {
   "cell_type": "markdown",
   "id": "9e6df8c9-61dd-4757-aaaa-ba8b44abfbdc",
   "metadata": {},
   "source": [
    "# Exploring the Dataset\n",
    "To get a feel of what the dataset is about, the first step would be to read what the author has outlined for us:\n",
    "\n",
    "> Hello everyone!\n",
    "> This is the dataset I have used for my matriculation thesis.\n",
    "> It contains about 28K medium quality animal images belonging to 10 categories: dog, cat, horse, spyder, butterfly, chicken, sheep, cow, squirrel, elephant.\n",
    "> I have used it to test different image recognition networks: from homemade CNNs (~80% accuracy) to Google Inception (98%). It could simulate a smart gallery for a researcher (like a biologist).\n",
    "> All the images have been collected from \"google images\" and have been checked by human. There is some erroneous data to simulate real conditions (eg. images taken by users of your app).\n",
    "> The main directory is divided into folders, one for each category. Image count for each category varies from 2K to 5 K units.\".\n",
    "\n",
    "As we can see here he mentions that the dataset includes 10 categories:`dog`, `cat`, `horse`, `spider`, `butterfly`, `chicken`, `sheep`, `cow`, `squirrel`, and `elephant`. We should confirm this as one of the key concepts I have learned is to not trust everything until I am able to verify the datapoint my self. So lets analyze the zip file and see what included. The file was downloaded and extracted into the data folder.\n",
    "\n",
    "The data zip file can be downloaded from [here](https://www.kaggle.com/datasets/alessiocorrado99/animals10?resource=download)."
   ]
  },
  {
   "cell_type": "code",
   "execution_count": 1,
   "id": "a1cfe6c8-c110-4707-80af-4b064b7bdaea",
   "metadata": {},
   "outputs": [
    {
     "name": "stdout",
     "output_type": "stream",
     "text": [
      "['raw-img', 'translate.py']\n"
     ]
    }
   ],
   "source": [
    "import os\n",
    "\n",
    "data_dir = 'data'\n",
    "data_files = sorted(os.listdir(data_dir))\n",
    "print(data_files)"
   ]
  },
  {
   "cell_type": "markdown",
   "source": [
    "As we can see, there are two files included: a `raw-img` folder and `translate.py` python file. Looking at the translate.py file, it seems to be a translation file. It contains a `dict` that gives translations of the supposed classes from Italian to English. This will be useful to use later. The next step is to take a look into the `raw-img` folder."
   ],
   "metadata": {
    "collapsed": false
   }
  },
  {
   "cell_type": "code",
   "execution_count": 2,
   "outputs": [
    {
     "name": "stdout",
     "output_type": "stream",
     "text": [
      "['cane', 'cavallo', 'elefante', 'farfalla', 'gallina', 'gatto', 'mucca', 'pecora', 'ragno', 'scoiattolo']\n"
     ]
    }
   ],
   "source": [
    "raw_dir = data_dir + '/' + data_files[0]\n",
    "raw_files = sorted(os.listdir(raw_dir))\n",
    "\n",
    "print(raw_files)\n",
    "# for later conversion back ['cane', 'cavallo', 'elefante', 'farfalla', 'gallina', 'gatto', 'mucca', 'pecora', 'ragno', 'scoiattolo']"
   ],
   "metadata": {
    "collapsed": false
   }
  },
  {
   "cell_type": "markdown",
   "source": [
    "These look to be the class folders! Only issue is that they seem to be in Italian. This can easily be fixed by using the `translation.py` file found earlier. There are a majority of ways to use this file, but in my case, it easier to move the file to the root directory of the notebook, rather then make it into a module. Since the file only contains a single dict, I decided it wasnt worth the extra steps to make it a module. There are many ways to use this file, this is the way I decided to use it."
   ],
   "metadata": {
    "collapsed": false
   }
  },
  {
   "cell_type": "code",
   "execution_count": 3,
   "outputs": [
    {
     "name": "stdout",
     "output_type": "stream",
     "text": [
      "Moved translation.py to root directory of notebook\n"
     ]
    },
    {
     "ename": "KeyError",
     "evalue": "'ragno'",
     "output_type": "error",
     "traceback": [
      "\u001B[0;31m---------------------------------------------------------------------------\u001B[0m",
      "\u001B[0;31mKeyError\u001B[0m                                  Traceback (most recent call last)",
      "Cell \u001B[0;32mIn [3], line 13\u001B[0m\n\u001B[1;32m     10\u001B[0m \u001B[38;5;66;03m# Translate Italian folder names to English\u001B[39;00m\n\u001B[1;32m     11\u001B[0m \u001B[38;5;28;01mfor\u001B[39;00m folder \u001B[38;5;129;01min\u001B[39;00m raw_files:\n\u001B[1;32m     12\u001B[0m     os\u001B[38;5;241m.\u001B[39mrename(raw_dir \u001B[38;5;241m+\u001B[39m \u001B[38;5;124m'\u001B[39m\u001B[38;5;124m/\u001B[39m\u001B[38;5;124m'\u001B[39m \u001B[38;5;241m+\u001B[39m folder,\n\u001B[0;32m---> 13\u001B[0m               raw_dir \u001B[38;5;241m+\u001B[39m \u001B[38;5;124m'\u001B[39m\u001B[38;5;124m/\u001B[39m\u001B[38;5;124m'\u001B[39m \u001B[38;5;241m+\u001B[39m \u001B[43mtranslate\u001B[49m\u001B[38;5;241;43m.\u001B[39;49m\u001B[43mtranslate\u001B[49m\u001B[43m[\u001B[49m\u001B[43mfolder\u001B[49m\u001B[43m]\u001B[49m)\n",
      "\u001B[0;31mKeyError\u001B[0m: 'ragno'"
     ]
    }
   ],
   "source": [
    "# Check if second file (translation.py) exists, if it does move it\n",
    "if 1 < len(data_files):\n",
    "    os.rename(data_dir + '/' + data_files[1], data_files[1])\n",
    "    print('Moved translation.py to root directory of notebook')\n",
    "else:\n",
    "    print('translation.py may have already been moved or is missing')\n",
    "\n",
    "import translate # The dict given to us by dataset author\n",
    "\n",
    "# Translate Italian folder names to English\n",
    "for folder in raw_files:\n",
    "    os.rename(raw_dir + '/' + folder,\n",
    "              raw_dir + '/' + translate.translate[folder])"
   ],
   "metadata": {
    "collapsed": false
   }
  },
  {
   "cell_type": "markdown",
   "source": [
    "What happened? It seems the `ragno` key doesn't exist in the imported dictionary. Lets investigate this by printing out the included dictionary."
   ],
   "metadata": {
    "collapsed": false
   }
  },
  {
   "cell_type": "code",
   "execution_count": 4,
   "outputs": [
    {
     "name": "stdout",
     "output_type": "stream",
     "text": [
      "{'cane': 'dog', 'cavallo': 'horse', 'elefante': 'elephant', 'farfalla': 'butterfly', 'gallina': 'chicken', 'gatto': 'cat', 'mucca': 'cow', 'pecora': 'sheep', 'scoiattolo': 'squirrel', 'dog': 'cane', 'elephant': 'elefante', 'butterfly': 'farfalla', 'chicken': 'gallina', 'cat': 'gatto', 'cow': 'mucca', 'spider': 'ragno', 'squirrel': 'scoiattolo'}\n"
     ]
    }
   ],
   "source": [
    "print(translate.translate)"
   ],
   "metadata": {
    "collapsed": false
   }
  },
  {
   "cell_type": "markdown",
   "source": [
    "Ah! Takeing a deeper look at this `dict` you can see that there indeed is a missing translation! `'rago': 'spider'` doesn't exist! Just another reason to always expect your data to be wrong until you can prove otherwise. This is a simple fix. We will also see what files were correctly translated and which ones still need to be translated as well.\n",
    "\n",
    "Note: This could be fixed if you decide to follow through these steps on your own. Do your own investigation and see if the issue still exists!"
   ],
   "metadata": {
    "collapsed": false
   }
  },
  {
   "cell_type": "code",
   "execution_count": 5,
   "outputs": [
    {
     "name": "stdout",
     "output_type": "stream",
     "text": [
      "{'cane': 'dog', 'cavallo': 'horse', 'elefante': 'elephant', 'farfalla': 'butterfly', 'gallina': 'chicken', 'gatto': 'cat', 'mucca': 'cow', 'pecora': 'sheep', 'scoiattolo': 'squirrel', 'dog': 'cane', 'elephant': 'elefante', 'butterfly': 'farfalla', 'chicken': 'gallina', 'cat': 'gatto', 'cow': 'mucca', 'spider': 'ragno', 'squirrel': 'scoiattolo', 'ragno': 'spider'}\n",
      "\n",
      "Current Folder Names:\n",
      "['horse', 'sheep', 'elephant', 'cat', 'scoiattolo', 'chicken', 'ragno', 'dog', 'cow', 'butterfly']\n"
     ]
    }
   ],
   "source": [
    "fixedTranslate = translate.translate.copy()\n",
    "fixedTranslate.update({'ragno':'spider'})\n",
    "print(fixedTranslate)\n",
    "print('\\nCurrent Folder Names:')\n",
    "print(os.listdir(raw_dir))"
   ],
   "metadata": {
    "collapsed": false
   }
  },
  {
   "cell_type": "markdown",
   "source": [
    "Now that we fixed the translation dict, the only step is to fixed untranslated folders. As seen above, the only two folders that were not translated was `scoiattolo` and `ragno`. We can quickly manualy translate them as there is only two folders."
   ],
   "metadata": {
    "collapsed": false
   }
  },
  {
   "cell_type": "code",
   "execution_count": 6,
   "outputs": [
    {
     "name": "stdout",
     "output_type": "stream",
     "text": [
      "['horse', 'sheep', 'elephant', 'cat', 'chicken', 'dog', 'spider', 'squirrel', 'cow', 'butterfly']\n"
     ]
    }
   ],
   "source": [
    "os.rename(raw_dir + '/ragno',\n",
    "          raw_dir + '/' + fixedTranslate['ragno'])\n",
    "os.rename(raw_dir + '/scoiattolo',\n",
    "          raw_dir + '/' + fixedTranslate['scoiattolo'])\n",
    "print(os.listdir(raw_dir))"
   ],
   "metadata": {
    "collapsed": false
   }
  },
  {
   "cell_type": "markdown",
   "source": [
    "Now we have the correct folder names. With this we can compare what was the expected classes and what was given in the dataset archive. We expect to see 10 categories:`dog`, `cat`, `horse`, `spider`, `butterfly`, `chicken`, `sheep`, `cow`, `squirrel`, and `elephant`. Comparing this list with the current printout above of the file names, they seem to match! So we can confirm that we have these 10 classes to work with. Now it's time to dig a bit deeper and look at the stats of each of these classes."
   ],
   "metadata": {
    "collapsed": false
   }
  },
  {
   "cell_type": "code",
   "execution_count": 15,
   "outputs": [
    {
     "name": "stdout",
     "output_type": "stream",
     "text": [
      "Sample of files from Cat folder: \n",
      "['1018.jpeg', '1043.jpeg', '1223.jpeg', '126.jpeg', '269.jpeg', '498.jpeg', '960.jpeg', '991.jpeg', 'ea35b80d2ef1013ed1584d05fb1d4e9fe777ead218ac104497f5c978a7e8b7bc_640.jpg', 'ea37b8082ef1013ed1584d05fb1d4e9fe777ead218ac104497f5c978a7e8b7bc_640.jpg']\n",
      "\n",
      "\n",
      "# of files in butterfly: 2112\n",
      "# of files in cat: 1668\n",
      "# of files in chicken: 3098\n",
      "# of files in cow: 1866\n",
      "# of files in dog: 4863\n",
      "# of files in elephant: 1446\n",
      "# of files in horse: 2623\n",
      "# of files in sheep: 1820\n",
      "# of files in spider: 4821\n",
      "# of files in squirrel: 1862\n"
     ]
    }
   ],
   "source": [
    "raw_files = os.listdir(raw_dir)\n",
    "print('Sample of files from Cat folder: ')\n",
    "print(sorted(os.listdir(raw_dir + '/' + 'cat')[:10]))\n",
    "print('\\n')\n",
    "\n",
    "# Print number of images\n",
    "for folder in sorted(raw_files):\n",
    "    folder_files = os.listdir(raw_dir + '/' + folder)\n",
    "    print('# of files in ' + folder + ': ' + str(len(folder_files)))"
   ],
   "metadata": {
    "collapsed": false
   }
  },
  {
   "cell_type": "code",
   "execution_count": null,
   "outputs": [],
   "source": [
    "# Graph this as a distrubution"
   ],
   "metadata": {
    "collapsed": false
   }
  }
 ],
 "metadata": {
  "kernelspec": {
   "name": "python3",
   "language": "python",
   "display_name": "Python 3 (ipykernel)"
  },
  "language_info": {
   "codemirror_mode": {
    "name": "ipython",
    "version": 3
   },
   "file_extension": ".py",
   "mimetype": "text/x-python",
   "name": "python",
   "nbconvert_exporter": "python",
   "pygments_lexer": "ipython3",
   "version": "3.10.8"
  }
 },
 "nbformat": 4,
 "nbformat_minor": 5
}
