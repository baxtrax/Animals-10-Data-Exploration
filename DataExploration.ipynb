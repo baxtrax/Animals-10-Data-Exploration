{
 "cells": [
  {
   "cell_type": "markdown",
   "id": "2e3a5408-0e50-4d87-86e8-55441be66fa7",
   "metadata": {},
   "source": [
    "# Animals-10 Data Exploration\n",
    "The [Animals-10 Dataset](https://www.kaggle.com/datasets/alessiocorrado99/animals10?resource=download) is made by Corrado Alessio. There are a multitude of goals that I want to acheive in this exploration. These include:\n",
    "- Explore Dataset and its characteristics\n",
    "- Identify issues\n",
    "- Develop solutions\n",
    "- Preprocess for image classification training"
   ]
  },
  {
   "cell_type": "markdown",
   "id": "9e6df8c9-61dd-4757-aaaa-ba8b44abfbdc",
   "metadata": {},
   "source": [
    "# Exploring the Dataset\n",
    "To get a feel of what the dataset is about, the first step would be to read what the author has outlined for us:\n",
    "\n",
    "> Hello everyone!\n",
    "> This is the dataset I have used for my matriculation thesis.\n",
    "> It contains about 28K medium quality animal images belonging to 10 categories: dog, cat, horse, spyder, butterfly, chicken, sheep, cow, squirrel, elephant.\n",
    "> I have used it to test different image recognition networks: from homemade CNNs (~80% accuracy) to Google Inception (98%). It could simulate a smart gallery for a researcher (like a biologist).\n",
    "> All the images have been collected from \"google images\" and have been checked by human. There is some erroneous data to simulate real conditions (eg. images taken by users of your app).\n",
    "> The main directory is divided into folders, one for each category. Image count for each category varies from 2K to 5 K units.\".\n",
    "\n",
    "As we can see here he mentions that the dataset includes 10 categories:`dog`, `cat`, `horse`, `spider`, `butterfly`, `chicken`, `sheep`, `cow`, `squirrel`, and `elephant`. We should confirm this as one of the key concepts I have learned is to not trust everything until I am able to verify the datapoint my self. So lets analyze the zip file and see what included. The file was downloaded and extracted into the data folder.\n",
    "\n",
    "The data zip file can be downloaded from [here](https://www.kaggle.com/datasets/alessiocorrado99/animals10?resource=download)."
   ]
  },
  {
   "cell_type": "code",
   "execution_count": 1,
   "id": "a1cfe6c8-c110-4707-80af-4b064b7bdaea",
   "metadata": {},
   "outputs": [
    {
     "name": "stdout",
     "output_type": "stream",
     "text": [
      "['raw-img']\n"
     ]
    }
   ],
   "source": [
    "import os\n",
    "\n",
    "data_dir = 'data'\n",
    "data_files = sorted(os.listdir(data_dir))\n",
    "print(data_files)"
   ]
  },
  {
   "cell_type": "markdown",
   "source": [
    "As we can see, there are two files included: a `raw-img` folder and `translate.py` python file. Looking at the translate.py file, it seems to be a translation file. It contains a `dict` that gives translations of the supposed classes from Italian to English. This will be useful to use later. The next step is to take a look into the `raw-img` folder."
   ],
   "metadata": {
    "collapsed": false
   }
  },
  {
   "cell_type": "code",
   "execution_count": 2,
   "outputs": [
    {
     "name": "stdout",
     "output_type": "stream",
     "text": [
      "['butterfly', 'cat', 'chicken', 'cow', 'dog', 'elephant', 'horse', 'sheep', 'spider', 'squirrel']\n"
     ]
    }
   ],
   "source": [
    "raw_dir = data_dir + '/' + data_files[0]\n",
    "raw_files = sorted(os.listdir(raw_dir))\n",
    "\n",
    "print(raw_files)\n",
    "# for later conversion back ['cane', 'cavallo', 'elefante', 'farfalla', 'gallina', 'gatto', 'mucca', 'pecora', 'ragno', 'scoiattolo']"
   ],
   "metadata": {
    "collapsed": false
   }
  },
  {
   "cell_type": "markdown",
   "source": [
    "These look to be the class folders! Only issue is that they seem to be in Italian. This can easily be fixed by using the `translation.py` file found earlier. There are a majority of ways to use this file, but in my case, it easier to move the file to the root directory of the notebook, rather then make it into a module. Since the file only contains a single dict, I decided it wasnt worth the extra steps to make it a module. There are many ways to use this file, this is the way I decided to use it."
   ],
   "metadata": {
    "collapsed": false
   }
  },
  {
   "cell_type": "code",
   "execution_count": 3,
   "outputs": [
    {
     "name": "stdout",
     "output_type": "stream",
     "text": [
      "Moved translation.py to root directory of notebook\n"
     ]
    },
    {
     "ename": "KeyError",
     "evalue": "'ragno'",
     "output_type": "error",
     "traceback": [
      "\u001B[0;31m---------------------------------------------------------------------------\u001B[0m",
      "\u001B[0;31mKeyError\u001B[0m                                  Traceback (most recent call last)",
      "Cell \u001B[0;32mIn [3], line 13\u001B[0m\n\u001B[1;32m     10\u001B[0m \u001B[38;5;66;03m# Translate Italian folder names to English\u001B[39;00m\n\u001B[1;32m     11\u001B[0m \u001B[38;5;28;01mfor\u001B[39;00m folder \u001B[38;5;129;01min\u001B[39;00m raw_files:\n\u001B[1;32m     12\u001B[0m     os\u001B[38;5;241m.\u001B[39mrename(raw_dir \u001B[38;5;241m+\u001B[39m \u001B[38;5;124m'\u001B[39m\u001B[38;5;124m/\u001B[39m\u001B[38;5;124m'\u001B[39m \u001B[38;5;241m+\u001B[39m folder,\n\u001B[0;32m---> 13\u001B[0m               raw_dir \u001B[38;5;241m+\u001B[39m \u001B[38;5;124m'\u001B[39m\u001B[38;5;124m/\u001B[39m\u001B[38;5;124m'\u001B[39m \u001B[38;5;241m+\u001B[39m \u001B[43mtranslate\u001B[49m\u001B[38;5;241;43m.\u001B[39;49m\u001B[43mtranslate\u001B[49m\u001B[43m[\u001B[49m\u001B[43mfolder\u001B[49m\u001B[43m]\u001B[49m)\n",
      "\u001B[0;31mKeyError\u001B[0m: 'ragno'"
     ]
    }
   ],
   "source": [
    "# Check if second file (translation.py) exists, if it does move it\n",
    "if 1 < len(data_files):\n",
    "    os.rename(data_dir + '/' + data_files[1], data_files[1])\n",
    "    print('Moved translation.py to root directory of notebook')\n",
    "else:\n",
    "    print('translation.py may have already been moved or is missing')\n",
    "\n",
    "import translate # The dict given to us by dataset author\n",
    "\n",
    "# Translate Italian folder names to English\n",
    "for folder in raw_files:\n",
    "    os.rename(raw_dir + '/' + folder,\n",
    "              raw_dir + '/' + translate.translate[folder])"
   ],
   "metadata": {
    "collapsed": false
   }
  },
  {
   "cell_type": "markdown",
   "source": [
    "What happened? It seems the `ragno` key doesn't exist in the imported dictionary. Lets investigate this by printing out the included dictionary."
   ],
   "metadata": {
    "collapsed": false
   }
  },
  {
   "cell_type": "code",
   "execution_count": 4,
   "outputs": [
    {
     "name": "stdout",
     "output_type": "stream",
     "text": [
      "{'cane': 'dog', 'cavallo': 'horse', 'elefante': 'elephant', 'farfalla': 'butterfly', 'gallina': 'chicken', 'gatto': 'cat', 'mucca': 'cow', 'pecora': 'sheep', 'scoiattolo': 'squirrel', 'dog': 'cane', 'elephant': 'elefante', 'butterfly': 'farfalla', 'chicken': 'gallina', 'cat': 'gatto', 'cow': 'mucca', 'spider': 'ragno', 'squirrel': 'scoiattolo'}\n"
     ]
    }
   ],
   "source": [
    "print(translate.translate)"
   ],
   "metadata": {
    "collapsed": false
   }
  },
  {
   "cell_type": "markdown",
   "source": [
    "Ah! Takeing a deeper look at this `dict` you can see that there indeed is a missing translation! `'rago': 'spider'` doesn't exist! Just another reason to always expect your data to be wrong until you can prove otherwise. This is a simple fix. We will also see what files were correctly translated and which ones still need to be translated as well.\n",
    "\n",
    "Note: This could be fixed if you decide to follow through these steps on your own. Do your own investigation and see if the issue still exists!"
   ],
   "metadata": {
    "collapsed": false
   }
  },
  {
   "cell_type": "code",
   "execution_count": 5,
   "outputs": [
    {
     "name": "stdout",
     "output_type": "stream",
     "text": [
      "{'cane': 'dog', 'cavallo': 'horse', 'elefante': 'elephant', 'farfalla': 'butterfly', 'gallina': 'chicken', 'gatto': 'cat', 'mucca': 'cow', 'pecora': 'sheep', 'scoiattolo': 'squirrel', 'dog': 'cane', 'elephant': 'elefante', 'butterfly': 'farfalla', 'chicken': 'gallina', 'cat': 'gatto', 'cow': 'mucca', 'spider': 'ragno', 'squirrel': 'scoiattolo', 'ragno': 'spider'}\n",
      "\n",
      "Current Folder Names:\n",
      "['horse', 'sheep', 'elephant', 'cat', 'scoiattolo', 'chicken', 'ragno', 'dog', 'cow', 'butterfly']\n"
     ]
    }
   ],
   "source": [
    "fixedTranslate = translate.translate.copy()\n",
    "fixedTranslate.update({'ragno':'spider'})\n",
    "print(fixedTranslate)\n",
    "print('\\nCurrent Folder Names:')\n",
    "print(os.listdir(raw_dir))"
   ],
   "metadata": {
    "collapsed": false
   }
  },
  {
   "cell_type": "markdown",
   "source": [
    "Now that we fixed the translation dict, the only step is to fixed untranslated folders. As seen above, the only two folders that were not translated was `scoiattolo` and `ragno`. We can quickly manualy translate them as there is only two folders."
   ],
   "metadata": {
    "collapsed": false
   }
  },
  {
   "cell_type": "code",
   "execution_count": 6,
   "outputs": [
    {
     "name": "stdout",
     "output_type": "stream",
     "text": [
      "['horse', 'sheep', 'elephant', 'cat', 'chicken', 'dog', 'spider', 'squirrel', 'cow', 'butterfly']\n"
     ]
    }
   ],
   "source": [
    "os.rename(raw_dir + '/ragno',\n",
    "          raw_dir + '/' + fixedTranslate['ragno'])\n",
    "os.rename(raw_dir + '/scoiattolo',\n",
    "          raw_dir + '/' + fixedTranslate['scoiattolo'])\n",
    "print(os.listdir(raw_dir))"
   ],
   "metadata": {
    "collapsed": false
   }
  },
  {
   "cell_type": "markdown",
   "source": [
    "Now we have the correct folder names. With this we can compare what was the expected classes and what was given in the dataset archive. We expect to see 10 categories:`dog`, `cat`, `horse`, `spider`, `butterfly`, `chicken`, `sheep`, `cow`, `squirrel`, and `elephant`. Comparing this list with the current printout above of the file names, they seem to match! So we can confirm that we have these 10 classes to work with. Now it's time to dig a bit deeper and look at the stats of each of these classes.\n",
    "\n",
    "The things to investigate when exploring a new dataset would be:\n",
    "* Class Imbalance (Num of imgs in each class in this case)\n",
    "* Size of the Images\n",
    "* Color Imbalances"
   ],
   "metadata": {
    "collapsed": false
   }
  },
  {
   "cell_type": "markdown",
   "source": [
    " # Checking for Class Imbalance\n",
    " First thing to do is list the number of file under each class. This will help give a better idea of figuring out if there is a class imbalance and where."
   ],
   "metadata": {
    "collapsed": false
   }
  },
  {
   "cell_type": "code",
   "execution_count": 3,
   "outputs": [
    {
     "name": "stdout",
     "output_type": "stream",
     "text": [
      "  folder_name  number_of_files\n",
      "0   butterfly             2112\n",
      "1         cat             1668\n",
      "2     chicken             3098\n",
      "3         cow             1866\n",
      "4         dog             4863\n",
      "5    elephant             1446\n",
      "6       horse             2623\n",
      "7       sheep             1820\n",
      "8      spider             4821\n",
      "9    squirrel             1862\n"
     ]
    },
    {
     "data": {
      "text/plain": "<AxesSubplot:xlabel='folder_name', ylabel='number_of_files'>"
     },
     "execution_count": 3,
     "metadata": {},
     "output_type": "execute_result"
    },
    {
     "data": {
      "text/plain": "<Figure size 640x480 with 1 Axes>",
      "image/png": "[encoded data removed]"
     },
     "metadata": {},
     "output_type": "display_data"
    }
   ],
   "source": [
    "# Grab sample of files to see what data looks like\n",
    "import pandas as pd\n",
    "import seaborn as sns\n",
    "from collections import Counter\n",
    "\n",
    "data = []\n",
    "\n",
    "raw_files = os.listdir(raw_dir)\n",
    "# Print number of images\n",
    "for folder in sorted(raw_files):\n",
    "    folder_files = os.listdir(raw_dir + '/' + folder)\n",
    "    data.append([folder,len(folder_files)])\n",
    "\n",
    "# Convert to data frame for easy use\n",
    "df = pd.DataFrame(data=data,\n",
    "                  columns=['folder_name','number_of_files'])\n",
    "print(df)\n",
    "sns.barplot(data=df.sort_values(\"number_of_files\"), x=\"folder_name\", y=\"number_of_files\")"
   ],
   "metadata": {
    "collapsed": false
   }
  },
  {
   "cell_type": "markdown",
   "source": [
    "Currently it seems that there **IS** a class imbalance. Spider and dog have double or more then a majority of the other classes. There are a few ways to fix this:\n",
    "\n",
    "* Remove some images from the high image count classes to get closer to a Uniform Distribution\n",
    "* Add images to the low image count classes to get closer to a Uniform Distribution\n",
    "* Do not modifiy the dataset and use a weighted dataloader to help show more of the low image count classes during training.\n",
    "\n",
    "Removing images is the most direct solution as it will easily solve the problem in a single operation. The issue with this plan is that there will be dataloss. In the real world, some companies will spend money hiring data engineers and data scientists to help curate these datasets to make sure they are clean, large enough for the task etc. (In this case this dataset is not clean, but the point stands). Generally throwing away data for the sake of training distribution can be seen as bad practice.\n",
    "\n",
    "Adding images also is a direct solution. It may not be as easy as deleteing some of the images though. This also in the real world would cost more money, as time would need to be spent looking for the new data, cleaning it, and processing it.\n",
    "\n",
    "Using a weight dataloader for training is a viable solution, this not only helps normalize the training on all of the classes, it also is realitively easy to implement and there is no loss in data from the dataset.\n",
    "\n",
    "Between these choices, a weighted dataloader (will be called a Weighted Random Sampler from now on) and Deleteing images are the two most viable solutions, so both will be explored later when the dataloaders are created."
   ],
   "metadata": {
    "collapsed": false
   }
  },
  {
   "cell_type": "markdown",
   "source": [
    "## Checking Image Sizes\n",
    "\n",
    "Checking images sizes is important because incorrect images sizes can throw off training or in some cases even crash the training loop if the loop is not implemented with safeguards. To help avoid these problems lets take a loop at the unique images sizes across the dataset\n"
   ],
   "metadata": {
    "collapsed": false
   }
  },
  {
   "cell_type": "code",
   "execution_count": 30,
   "outputs": [
    {
     "name": "stderr",
     "output_type": "stream",
     "text": [
      "libpng warning: iCCP: known incorrect sRGB profile\n",
      "libpng warning: iCCP: known incorrect sRGB profile\n",
      "libpng warning: iCCP: known incorrect sRGB profile\n",
      "libpng warning: iCCP: known incorrect sRGB profile\n",
      "libpng warning: iCCP: known incorrect sRGB profile\n",
      "libpng warning: iCCP: known incorrect sRGB profile\n",
      "libpng warning: iCCP: known incorrect sRGB profile\n",
      "libpng warning: iCCP: known incorrect sRGB profile\n",
      "libpng warning: iCCP: known incorrect sRGB profile\n",
      "libpng warning: iCCP: known incorrect sRGB profile\n",
      "libpng warning: iCCP: known incorrect sRGB profile\n",
      "libpng warning: iCCP: known incorrect sRGB profile\n",
      "libpng warning: iCCP: known incorrect sRGB profile\n",
      "libpng warning: iCCP: known incorrect sRGB profile\n",
      "libpng warning: iCCP: known incorrect sRGB profile\n",
      "libpng warning: iCCP: known incorrect sRGB profile\n",
      "libpng warning: iCCP: known incorrect sRGB profile\n",
      "libpng warning: iCCP: known incorrect sRGB profile\n",
      "libpng warning: iCCP: known incorrect sRGB profile\n",
      "libpng warning: iCCP: known incorrect sRGB profile\n",
      "libpng warning: iCCP: known incorrect sRGB profile\n",
      "libpng warning: iCCP: known incorrect sRGB profile\n"
     ]
    },
    {
     "data": {
      "text/plain": "              width        height  color_channels\ncount  26179.000000  26179.000000         26179.0\nmean     252.630162    320.038810             3.0\nstd      148.403298    196.935326             0.0\nmin       57.000000     60.000000             3.0\n25%      200.000000    300.000000             3.0\n50%      225.000000    300.000000             3.0\n75%      300.000000    300.000000             3.0\nmax     6000.000000   6720.000000             3.0",
      "text/html": "<div>\n<style scoped>\n    .dataframe tbody tr th:only-of-type {\n        vertical-align: middle;\n    }\n\n    .dataframe tbody tr th {\n        vertical-align: top;\n    }\n\n    .dataframe thead th {\n        text-align: right;\n    }\n</style>\n<table border=\"1\" class=\"dataframe\">\n  <thead>\n    <tr style=\"text-align: right;\">\n      <th></th>\n      <th>width</th>\n      <th>height</th>\n      <th>color_channels</th>\n    </tr>\n  </thead>\n  <tbody>\n    <tr>\n      <th>count</th>\n      <td>26179.000000</td>\n      <td>26179.000000</td>\n      <td>26179.0</td>\n    </tr>\n    <tr>\n      <th>mean</th>\n      <td>252.630162</td>\n      <td>320.038810</td>\n      <td>3.0</td>\n    </tr>\n    <tr>\n      <th>std</th>\n      <td>148.403298</td>\n      <td>196.935326</td>\n      <td>0.0</td>\n    </tr>\n    <tr>\n      <th>min</th>\n      <td>57.000000</td>\n      <td>60.000000</td>\n      <td>3.0</td>\n    </tr>\n    <tr>\n      <th>25%</th>\n      <td>200.000000</td>\n      <td>300.000000</td>\n      <td>3.0</td>\n    </tr>\n    <tr>\n      <th>50%</th>\n      <td>225.000000</td>\n      <td>300.000000</td>\n      <td>3.0</td>\n    </tr>\n    <tr>\n      <th>75%</th>\n      <td>300.000000</td>\n      <td>300.000000</td>\n      <td>3.0</td>\n    </tr>\n    <tr>\n      <th>max</th>\n      <td>6000.000000</td>\n      <td>6720.000000</td>\n      <td>3.0</td>\n    </tr>\n  </tbody>\n</table>\n</div>"
     },
     "execution_count": 30,
     "metadata": {},
     "output_type": "execute_result"
    }
   ],
   "source": [
    "# Go through each file and grab its file size, then get the details of the mean heights, widths etc.\n",
    "import cv2\n",
    "import numpy as np\n",
    "\n",
    "image_sizes = []\n",
    "# Go through each file\n",
    "for folder in raw_files:\n",
    "    folder_files = os.listdir(raw_dir + '/' + folder)\n",
    "    for file in folder_files:\n",
    "        # Read image, and get its shape\n",
    "        image_sizes.append(np.shape(cv2.imread(raw_dir + '/' + folder + '/' + file)))\n",
    "\n",
    "# Organize data into a dataframe for ease of use\n",
    "df_size = pd.DataFrame(data=image_sizes,\n",
    "                       columns=['width', 'height', 'color_channels'])\n",
    "df_size.describe() # Generate the std, mean, and other usefull information"
   ],
   "metadata": {
    "collapsed": false
   }
  },
  {
   "cell_type": "code",
   "execution_count": 29,
   "outputs": [
    {
     "data": {
      "text/plain": "(0.0, 1000.0)"
     },
     "execution_count": 29,
     "metadata": {},
     "output_type": "execute_result"
    },
    {
     "data": {
      "text/plain": "<Figure size 500x500 with 1 Axes>",
      "image/png": "[encoded data removed]"
     },
     "metadata": {},
     "output_type": "display_data"
    }
   ],
   "source": [],
   "metadata": {
    "collapsed": false
   }
  },
  {
   "cell_type": "code",
   "execution_count": null,
   "outputs": [],
   "source": [],
   "metadata": {
    "collapsed": false
   }
  }
 ],
 "metadata": {
  "kernelspec": {
   "name": "python3",
   "language": "python",
   "display_name": "Python 3 (ipykernel)"
  },
  "language_info": {
   "codemirror_mode": {
    "name": "ipython",
    "version": 3
   },
   "file_extension": ".py",
   "mimetype": "text/x-python",
   "name": "python",
   "nbconvert_exporter": "python",
   "pygments_lexer": "ipython3",
   "version": "3.10.8"
  }
 },
 "nbformat": 4,
 "nbformat_minor": 5
}
